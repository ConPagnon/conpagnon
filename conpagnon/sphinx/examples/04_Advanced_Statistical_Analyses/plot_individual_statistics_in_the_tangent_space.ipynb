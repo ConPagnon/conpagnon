{
  "cells": [
    {
      "cell_type": "code",
      "execution_count": null,
      "metadata": {
        "collapsed": false
      },
      "outputs": [],
      "source": [
        "%matplotlib inline"
      ]
    },
    {
      "cell_type": "markdown",
      "metadata": {},
      "source": [
        "\nStatistics in the tangent space\n===============================\n**What you'll learn**: Compute individual\nstatistics in the the **tangent** space,\nand pinpoint functional connectivity\ndifferences in an individual from a\nreference group.\n"
      ]
    },
    {
      "cell_type": "markdown",
      "metadata": {},
      "source": [
        "**Author**: `Dhaif BEKHA <dhaif@dhaifbekha.com>`_\n\n"
      ]
    },
    {
      "cell_type": "markdown",
      "metadata": {},
      "source": [
        "Retrieve the example dataset\n----------------------------\n\nIn this section of the tutorials, we will need a set of brain signals\nfrom two distinct group of subjects. You will work on pre-computed\nset of times series extracted from 72 brain regions atlas. The first\ngroup, called *controls* is a set of brain signals from healthy\nseven years old children, and the second group called *patients*, is a set of\nbrain signals from seven years old children who have suffered a stroke. You can\ndownload the times series dictionary storing those signals\n`here <https://www.dropbox.com/s/1r71emzacxt93rv/times_series.pkl?dl=1>`_.\nFinally, we will plot some results on a glass brain, and we will need\nthe nodes coordinates of the atlas regions in which the signals were extracted.\nYou can download the `atlas <https://www.dropbox.com/s/wwmg0a4g3cjnfvv/atlas.nii?dl=1>`_,\nand the corresponding `labels <https://www.dropbox.com/s/3wuzwn14l7nksvy/atlas_labels.csv?dl=1>`_.\nAs usual, we will suppose that all needed files are in your **home directory**.\n\n"
      ]
    },
    {
      "cell_type": "markdown",
      "metadata": {},
      "source": [
        "Modules import\n--------------\n\n"
      ]
    },
    {
      "cell_type": "code",
      "execution_count": null,
      "metadata": {
        "collapsed": false
      },
      "outputs": [],
      "source": [
        "from pathlib import Path\nimport os\nfrom conpagnon.utils.folders_and_files_management import load_object\nfrom conpagnon.computing.compute_connectivity_matrices import tangent_space_projection\nfrom conpagnon.data_handling import atlas\nimport numpy as np\nfrom matplotlib.backends import backend_pdf\nimport matplotlib.pyplot as plt\nfrom nilearn.connectome import vec_to_sym_matrix\nfrom nilearn.plotting import plot_connectome\nimport networkx as nx"
      ]
    },
    {
      "cell_type": "markdown",
      "metadata": {},
      "source": [
        "Load the functional atlas\n-------------------------\n\nWe load the atlas that we already used in multiple section of\nthe tutorials section. Please, refer to the very first section\nwere we manipulated the exact same atlas.\n\n"
      ]
    },
    {
      "cell_type": "code",
      "execution_count": null,
      "metadata": {
        "collapsed": false
      },
      "outputs": [],
      "source": [
        "# Fetch the path of the home directory\nhome_directory = str(Path.home())\n\n# Atlas set up\natlas_folder = home_directory\natlas_name = 'atlas.nii'\nlabels_text_file = os.path.join(home_directory, 'atlas_labels.csv')\ncolors = ['navy', 'sienna', 'orange', 'orchid', 'indianred', 'olive',\n          'goldenrod', 'turquoise', 'darkslategray', 'limegreen', 'black',\n          'lightpink']\n# Number of regions in each user defined networks\nnetworks = [2, 10, 2, 6, 10, 2, 8, 6, 8, 8, 6, 4]\n# Atlas path\n# Read labels regions files\natlas_nodes, labels_regions, labels_colors, n_nodes = atlas.fetch_atlas(\n    atlas_folder=atlas_folder,\n    atlas_name=atlas_name,\n    network_regions_number=networks,\n    colors_labels=colors,\n    labels=labels_text_file,\n    normalize_colors=True)"
      ]
    },
    {
      "cell_type": "markdown",
      "metadata": {},
      "source": [
        "A brief theoretical background\n------------------------------\n\nIn this section we will you the theoretical basis and mathematical\ndevelopment to help you understand the advantages of using the\n**tangent space** metric in functional connectivity. We encourage\nyou to dive in more depth in the subject by reading the references\nwe select\n`here <https://www.dropbox.com/s/2io3k55r5n4o6rd/reference_1.pdf?dl=1>`_\nand `here <https://www.dropbox.com/s/xa6cqm6p8ry9enm/reference_2.pdf?dl=1>`_ !\n\n"
      ]
    },
    {
      "cell_type": "markdown",
      "metadata": {},
      "source": [
        "Problematic: Detecting functional connectivity difference\n~~~~~~~~~~~~~~~~~~~~~~~~~~~~~~~~~~~~~~~~~~~~~~~~~~~~~~~~~\n\nThe statistical analyses of functional connectivity based\non connectivity matrices aim to find **differences**\nbetween subject in the same group, or in two different\ngroup for example. So the first difficulty is to find\na sensible enough parametrization of those functional\nconnectivity matrices. It is common to use the correlation\nas the base metric, and compare correlation coefficients\nacross subjects. This simple procedure can be modelled\nby the following linear model, for a subject $s$,\nthe correlation matrix $\\Sigma^{s}$ is:\n\n"
      ]
    },
    {
      "cell_type": "markdown",
      "metadata": {},
      "source": [
        "\\begin{align}\\Sigma^{s} = \\Sigma_{0} + d\\Sigma^{s}\\end{align}\n\n"
      ]
    },
    {
      "cell_type": "markdown",
      "metadata": {},
      "source": [
        "where $\\Sigma_{0}$ is the mean covariance matrix\nof the whole group, and $d\\Sigma^{s}$ encode the\nsubject specific contribution in functional connectivity.\nBased on correlation metric, $d\\Sigma^{s}$ can be\nvery difficult to model, drown in the natural dependence\nthat inherently exist between the functional connectivity\ncoefficients in a correlation matrix. In the following\nsub-section, we detailed one solution based on the\n**projection** of those correlation matrices in\nanother space.\n\n"
      ]
    },
    {
      "cell_type": "markdown",
      "metadata": {},
      "source": [
        "The projection in the tangent space\n~~~~~~~~~~~~~~~~~~~~~~~~~~~~~~~~~~~\n\nThe main problem to mitigate is the natural inter-dependence\nof functional connectivity coefficient that arise with\ncorrelation-like metric. Indeed, mathematically, those\nmatrices belong to the **symmetric positive definite**\nspace, that is, for any vector $v$,\nand $\\Sigma$ a correlation matrix, then we have\nthat  $v^{T}\\Sigma v > 0$. Considering two\ncorrelation matrices $\\Sigma_{1}$ and $\\Sigma_{2}$,\nwe can alleviate this problem by **projecting onto the tangent\nspace** $\\Sigma_{2}$ **at the point** $\\Sigma_{1}$.\nBack to our functional connectivity, let's consider\n$\\Sigma^{s}$ the subject correlation matrix of\nsubject $s$, $\\Sigma_{0}$ the mean\ncorrelation matrix of the whole group, and finally\n$d\\Sigma^{s}$, the subject-specific contribution\nwe have to compute:\n\n"
      ]
    },
    {
      "cell_type": "markdown",
      "metadata": {},
      "source": [
        "\\begin{align}\\Sigma^{s} = \\Sigma_{0}^{1/2} exp(d\\Sigma^{s}) \\Sigma_{0}^{1/2}\\end{align}\n\n"
      ]
    },
    {
      "cell_type": "markdown",
      "metadata": {},
      "source": [
        "The $d\\Sigma^{s}$ matrix, is the **tangent space matrix**\nof the subject $s$. It is reasonable to consider that\n$d\\Sigma^{s}$ is very small, $||d\\Sigma^{s}||_{2} << 1$,\nso that the above equation simplify in:\n\n"
      ]
    },
    {
      "cell_type": "markdown",
      "metadata": {},
      "source": [
        "\\begin{align}\\Sigma^{s} = \\Sigma_{0}^{1/2} (I_{n} + d\\Sigma^{s}) \\Sigma_{0}^{1/2}\\end{align}\n\n"
      ]
    },
    {
      "cell_type": "markdown",
      "metadata": {},
      "source": [
        "Using the above equation, we can finally compute $d\\Sigma^{s}$:\n\n"
      ]
    },
    {
      "cell_type": "markdown",
      "metadata": {},
      "source": [
        "\\begin{align}d\\Sigma^{s} = \\Sigma_{0}^{-1/2} \\Sigma^{s} \\Sigma_{0}^{-1/2} - I_{n}\\end{align}\n\n"
      ]
    },
    {
      "cell_type": "markdown",
      "metadata": {},
      "source": [
        "Giving $\\Sigma_{0}$, the projection matrix point, we can now\ncompute for every subject, at that point, the tangent space functional\nconnectivity matrix.\n\n"
      ]
    },
    {
      "cell_type": "markdown",
      "metadata": {},
      "source": [
        ".. tip::\n   The computation of the tangent space matrices\n   is implemented in the **Nilearn** library, that\n   you may already use, in the previous tutorial in\n   ConPagnon. Please, see the official documentation\n   of the `Nilearn package <https://nilearn.github.io/index.html>`_\n   for more information. In this implementation, you **must**\n   give the **whole stack** of all times series from all groups\n   to compute the tangent space matrices. In ConPagnon, we implement\n   a more flexible version, where you can give **a reference point**,\n   and the **points to project**, in the function\n   :py:func:`conpagnon.computing.compute_connectivity_matrices.tangent_space_projection`\n   function\n\n"
      ]
    },
    {
      "cell_type": "markdown",
      "metadata": {},
      "source": [
        "In the next section of this tutorial, we will\nuse the tangent space metric to compute a\ntest statistic, that pinpoint **for each patient**\nin the patients group, the functional connectivity\ndifferences from the mean correlation matrices\nof the control group.\n\n"
      ]
    },
    {
      "cell_type": "markdown",
      "metadata": {},
      "source": [
        "Subject specific statistic in the tangent space\n-----------------------------------------------\n\nIn this section, we will adapt the algorithm describe\nby Gael Varoquaux et al in\nthis `reference <https://www.dropbox.com/s/2io3k55r5n4o6rd/reference_1.pdf?dl=1>`_.\nWith the same notation as above, we will first compute $\\Sigma_{0}$, which\nwhich is the mean correlation matrix of the controls group. Then, for each\npatient $s$, we will project the correlation matrix $\\Sigma^{s}$ at\n$\\Sigma_{0}$ to compute the tangent space connectivity matrix, $d\\Sigma^{s}$. We\nalso compute the tangent matrices for the controls group.\nFinally, for each patient, we will compute a **one sample t-test** between $d\\Sigma^{s}$\nand ${ d\\Sigma_{0}^{1} ... d\\Sigma_{0}^{N} }$,\nthe tangent matrices of the controls group. To assess the\nsignificance of each p-value, for each subject, we generate\nthe null distribution for each coefficient by **bootstrapping of the reference group.**.\nThe user have to set the size of the bootstrapped sample  $m$, the number of time\nwe repeat the bootstrapping process, and the level of significance  $\\alpha$.\n\n"
      ]
    },
    {
      "cell_type": "code",
      "execution_count": null,
      "metadata": {
        "collapsed": false
      },
      "outputs": [],
      "source": [
        "# Load the times series dictionary in your\n# home directory\ntimes_series_dictionary = load_object(\n    full_path_to_object=os.path.join(home_directory, 'times_series.pkl'))\n\n# Retrieve the groups in the study: it's\n# simply the keys of the dictionary\ngroups = list(times_series_dictionary.keys())\n\n# Name of the projected group\nprojected_group_name = \"patients\"\n\n# Name of the reference group\nreference_group_name = \"controls\"\n\n# Subjects list in each group:\nreference_group = list(times_series_dictionary[reference_group_name].keys())\nsubjects_to_project = list(times_series_dictionary[projected_group_name].keys())\n\n# Stack the times series for each group\nreference_group_time_series = np.array([times_series_dictionary[reference_group_name][s]['time_series']\n                                        for s in reference_group])\ngroup_to_project_time_series = np.array([times_series_dictionary[projected_group_name][s]['time_series']\n                                         for s in subjects_to_project])\n\n# Number of bootstrap\nm = 10000\n# Size of the bootstrapped sample\nsize_subset_reference_group = 15\n# Level of Type-I error rate\nalpha = 0.01\n\n# Compute the tangent space projection, followed\n# by the one sample t-test and estimation of the\n# null distribution.\ntangent_space_projection_dict = tangent_space_projection(\n    reference_group=reference_group_time_series,\n    group_to_project=group_to_project_time_series,\n    bootstrap_number=m,\n    bootstrap_size=size_subset_reference_group,\n    output_directory=home_directory,\n    verif_null=False,\n    statistic='t',\n    correction_method=\"fdr_bh\",\n    alpha=alpha)"
      ]
    },
    {
      "cell_type": "markdown",
      "metadata": {},
      "source": [
        "<div class=\"alert alert-info\"><h4>Note</h4><p>The null distribution $H_{i,j}$ for\n   functional connectivity coefficient $i,j$\n   is estimated by leave-one-out inside the bootstrapped\n   sample. We compute the mean matrix of all subject in\n   the reference group, and project all subject in the\n   sample, onto the tangent space at that mean matrix.\n   Finally, we perform a one sample t-test between the\n   leftout subject and the mean group in the tangent space.</p></div>\n\n"
      ]
    },
    {
      "cell_type": "markdown",
      "metadata": {},
      "source": [
        "We stored all the useful results (the null distribution, the statistic\nfor each subjects....) in the variable ``tangent_space_projection_dict``.\nWe will first retrieve the corrected p-value and corresponding t-statistic\nfor each subject, and then plot it on a glass brain. We will use the atlas\nthat you previously downloaded in the first section of this tutorial.\n\n"
      ]
    },
    {
      "cell_type": "code",
      "execution_count": null,
      "metadata": {
        "collapsed": false
      },
      "outputs": [],
      "source": [
        "# Corrected p values for each projected subject\np_values_corrected = tangent_space_projection_dict['p_values_corrected']\n# Tangent Connectivity matrices for each projected subject\ngroup_to_project_tangent_matrices = tangent_space_projection_dict['group_to_project_tangent_matrices']\n# Reference group mean correlation matrices\nreference_group_tangent_mean = tangent_space_projection_dict['reference_group_tangent_mean']\n# output statistic for each projected subject\ngroup_to_project_stats = tangent_space_projection_dict['group_to_project_stats']\n\n# Initialize a empty adjacency matrix for plotting purpose,\n# if for a subject no significant nodes are to be found.\nempty_adjacency_matrix = np.zeros(shape=(n_nodes, n_nodes))\n\n\n# We will plot only the first five patients glass brain\nwith backend_pdf.PdfPages(os.path.join(home_directory, 'tangent_space_statistic_report')) as pdf:\n    for subject in range(len(subjects_to_project))[0:5]:\n        # compute node degree for each subject\n        # based on the surviving connection\n        group_to_project_significant_edges = vec_to_sym_matrix(p_values_corrected[subject, ...] < alpha,\n                                                               diagonal=np.zeros(n_nodes))\n        patient_adjacency_matrices = nx.from_numpy_array(group_to_project_significant_edges)\n        degrees = np.array([val for (node, val) in patient_adjacency_matrices.degree()])*40\n        # plot corrected connection\n        if np.unique(group_to_project_significant_edges).size == 1:\n            plot_connectome(\n                adjacency_matrix=empty_adjacency_matrix,\n                node_coords=atlas_nodes,\n                node_color=labels_colors,\n                title='{}'.format(\n                    subjects_to_project[subject]),\n                colorbar=False,\n                node_kwargs={'edgecolor': 'black', 'alpha': 1})\n            plt.tight_layout()\n            pdf.savefig()\n            plt.show()\n        else:\n            plot_connectome(\n                adjacency_matrix=vec_to_sym_matrix(np.multiply(p_values_corrected[subject, ...] < alpha,\n                                                               group_to_project_tangent_matrices[subject, ...]),\n                                                   diagonal=np.zeros(n_nodes)),\n                node_coords=atlas_nodes,\n                node_color=labels_colors,\n                title='{}'.format(\n                    subjects_to_project[subject]),\n                colorbar=True,\n                node_size=degrees,\n                node_kwargs={'edgecolor': 'black', 'alpha': 1},\n                edge_threshold=None)\n            plt.tight_layout()\n            pdf.savefig()\n            plt.show()\n\n    plot_connectome(adjacency_matrix=reference_group_tangent_mean,\n                    node_coords=atlas_nodes,\n                    node_color=labels_colors, edge_threshold='80%',\n                    title='{} tangent mean'.format(reference_group_name),\n                    colorbar=True)\n    plt.tight_layout()\n    pdf.savefig()\n    plt.show()"
      ]
    },
    {
      "cell_type": "markdown",
      "metadata": {},
      "source": [
        "We only plot a couple of glass brain in the above plot.\nAs you can see, the way functional connectivity is\nimpacted **differ patients to patients**. You see\nthat the number of time a certain node is impacted\nis also different. The projection in the tangent space\nallow us then, to explore **at the individual level**\nthe difference in functional connectivity in a subject\nregarding to a **mean reference** group.\n\n"
      ]
    },
    {
      "cell_type": "markdown",
      "metadata": {},
      "source": [
        "<div class=\"alert alert-info\"><h4>Note</h4><p>In the above glass brain, the size of the nodes are\n   proportional to the number of times they make significant\n   link with other nodes. The edge between two nodes, are\n   red if the connectivity coefficient are positive and blue\n   this coefficient is negative.</p></div>\n\n"
      ]
    },
    {
      "cell_type": "markdown",
      "metadata": {},
      "source": [
        "Depending on what you are studying, with our implementation\nof the projection of the tangent space, you can easily choose\nanother reference group. For example, we can imagine that inside\nthe only patients population, there is a homogeneous sub-group\nof patients regarding one or multiple parameters that can serve\nas a reference to study the remaining patients subjects.\n\n"
      ]
    }
  ],
  "metadata": {
    "kernelspec": {
      "display_name": "Python 3",
      "language": "python",
      "name": "python3"
    },
    "language_info": {
      "codemirror_mode": {
        "name": "ipython",
        "version": 3
      },
      "file_extension": ".py",
      "mimetype": "text/x-python",
      "name": "python",
      "nbconvert_exporter": "python",
      "pygments_lexer": "ipython3",
      "version": "3.7.3"
    }
  },
  "nbformat": 4,
  "nbformat_minor": 0
}