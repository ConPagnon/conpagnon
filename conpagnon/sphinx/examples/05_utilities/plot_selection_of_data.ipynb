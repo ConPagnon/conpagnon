{
  "cells": [
    {
      "cell_type": "code",
      "execution_count": null,
      "metadata": {
        "collapsed": false
      },
      "outputs": [],
      "source": [
        "%matplotlib inline"
      ]
    },
    {
      "cell_type": "markdown",
      "metadata": {},
      "source": [
        "\nManipulation of the data dictionary\n===================================\n**What you'll learn**: Learn to quickly manipulate the subjects\nconnectivity dictionary, selecting sub-sets of connectivity\nmatrices regarding behavioral group or variables.\n"
      ]
    },
    {
      "cell_type": "markdown",
      "metadata": {},
      "source": [
        "**Author**: `Dhaif BEKHA <dhaif@dhaifbekha.com>`_\n\n"
      ]
    },
    {
      "cell_type": "markdown",
      "metadata": {},
      "source": [
        "Retrieve the example dataset\n----------------------------\n\nIn this example, we will work directly on a pre-computed dictionary,\nthat contain two set of connectivity matrices, from two different groups.\nThe first group, called *controls* is a set of connectivity matrices from healthy\nseven years old children, and the second group called *patients*, is a set of\nconnectivity matrices from seven years old children who have suffered a stroke.\nYou can download the dictionary use in this example\n`here <https://www.dropbox.com/s/60ehxt3fohnea2j/raw_subjects_connectivity_matrices.pkl?dl=1>`_.\nYou will also need, the data table containing a set of continuous or categorical behavioral\nvariable regarding all the subjects in the dictionary. You can download the table\n`here <https://www.dropbox.com/s/4fhexvm4ci9d6nz/data_table.xlsx?dl=1>`_. When\ndownloaded, all the files must be stored in your **home directory**.\n\n"
      ]
    },
    {
      "cell_type": "markdown",
      "metadata": {},
      "source": [
        "Modules import\n--------------\n\n"
      ]
    },
    {
      "cell_type": "code",
      "execution_count": null,
      "metadata": {
        "collapsed": false
      },
      "outputs": [],
      "source": [
        "from conpagnon.data_handling import dictionary_operations, atlas, data_management\nfrom conpagnon.utils.folders_and_files_management import load_object\nimport pandas as pd\nfrom pathlib import Path\nimport os\nimport seaborn as sns\nimport matplotlib.pyplot as plt"
      ]
    },
    {
      "cell_type": "markdown",
      "metadata": {},
      "source": [
        "Load the data\n-------------\n\nWe will first load the subjects connectivity dictionary, storing\nfor each groups and subject, the connectivity matrices for\ndifferent connectivity metric. We will also the corresponding\ndata table.\n\n"
      ]
    },
    {
      "cell_type": "code",
      "execution_count": null,
      "metadata": {
        "collapsed": false
      },
      "outputs": [],
      "source": [
        "# Fetch the path of the home directory\nhome_directory = str(Path.home())\n\n# Load the dictionary containing the connectivity matrices\nsubjects_connectivity_matrices = load_object(\n    full_path_to_object=os.path.join(home_directory, 'raw_subjects_connectivity_matrices.pkl'))\n\n# load the data table\ndata_table = pd.read_excel(os.path.join(home_directory, 'data_table.xlsx'))\nprint(data_table.to_markdown())\n\n# For convenience, we shift the index\n# of the dataframe to the subjects\n# identifiers column\ndata_table = data_table.set_index(['subjects'])"
      ]
    },
    {
      "cell_type": "markdown",
      "metadata": {},
      "source": [
        "This data table have a very common\nstructure with a mix of categorical\nand continous variable. Let's barplot\nthe score for the group of female and male\nin the patients population:\n\n"
      ]
    },
    {
      "cell_type": "code",
      "execution_count": null,
      "metadata": {
        "collapsed": false
      },
      "outputs": [],
      "source": [
        "sns.barplot(x='Sex', y='score', data=data_table)\nplt.show()"
      ]
    },
    {
      "cell_type": "markdown",
      "metadata": {},
      "source": [
        "Selecting a subset of data\n--------------------------\n\nIt's common to extract and compute the connectivity\nmatrices on your whole cohort of data, and entering\nthem in one or multiple statistical analysis. In\npractice, you may want only selecting a sub-set\nof your connectivity matrices. For example,\nyou might want to select inside the\n**patients group**, the left lesioned subject\nand male only. For convenience, and avoiding\na fastidious manual extraction inside the\nsubjects connectivity matrices dictionary,\nwe create a special function dedicated\nto this task. The main inputs are\nthe connectivity dictionary of your\npopulation and the corresponding table.\n\n"
      ]
    },
    {
      "cell_type": "code",
      "execution_count": null,
      "metadata": {
        "collapsed": false
      },
      "outputs": [],
      "source": [
        "# Select the male, and left lesioned\n# patients.\n# Select a subset of patients\n# Compute the connectivity matrices dictionary with factor as keys.\ngroup_by_factor_subjects_connectivity, population_df_by_factor, factor_keys, = \\\n    dictionary_operations.groupby_factor_connectivity_matrices(\n        population_data_file=os.path.join(home_directory, 'data_table.xlsx'),\n        sheetname='behavioral_data',\n        subjects_connectivity_matrices_dictionnary=subjects_connectivity_matrices,\n        groupes=['patients'], factors=['Lesion', 'Sex'])"
      ]
    },
    {
      "cell_type": "markdown",
      "metadata": {},
      "source": [
        "The :py:func:`groupby_factor_connectivity_matrices`\noutput 3 objects: ``group_by_factor_subjects_connectivity`` is a dictionary\nwith all possible combination of the ``factors`` list you've entered. Here,\nwe entered *Lesion*, and *Sex*, two categorical variable with 2 levels\neach. So number of keys of the `groupby_factor_connectivity_matrices`\ndictionary should be 2x2, **4**: the right lesioned **AND** female patients,\nthe right lesioned **AND** male patients, the left lesioned **AND** male patients,\nthe left lesioned **AND** female patients. Let's print out the keys list\nto verify it:\n\n"
      ]
    },
    {
      "cell_type": "code",
      "execution_count": null,
      "metadata": {
        "collapsed": false
      },
      "outputs": [],
      "source": [
        "print(list(group_by_factor_subjects_connectivity.keys()))"
      ]
    },
    {
      "cell_type": "markdown",
      "metadata": {},
      "source": [
        "The second output is another  dictionary, with the previous\nlist as key, and the list of subjects for each sub-group.\nFor example, let's print out the list of subjects in the\nmale right lesioned group:\n\n"
      ]
    },
    {
      "cell_type": "code",
      "execution_count": null,
      "metadata": {
        "collapsed": false
      },
      "outputs": [],
      "source": [
        "print(population_df_by_factor[('D', 'M')])"
      ]
    },
    {
      "cell_type": "markdown",
      "metadata": {},
      "source": [
        "The last output is simply the keys list\nof the new group:\n\n"
      ]
    },
    {
      "cell_type": "code",
      "execution_count": null,
      "metadata": {
        "collapsed": false
      },
      "outputs": [],
      "source": [
        "print(factor_keys)"
      ]
    },
    {
      "cell_type": "markdown",
      "metadata": {},
      "source": [
        "Now, we can create a new dictionary of\npatients that contains only the sub-group\nwe wanted: the left lesioned and male\npatients. It's easy, because you\njust computed it:\n\n"
      ]
    },
    {
      "cell_type": "code",
      "execution_count": null,
      "metadata": {
        "collapsed": false
      },
      "outputs": [],
      "source": [
        "left_lesioned_male_matrices = dict()\nleft_lesioned_male_matrices['patients'] = group_by_factor_subjects_connectivity[('G', 'M')]"
      ]
    }
  ],
  "metadata": {
    "kernelspec": {
      "display_name": "Python 3",
      "language": "python",
      "name": "python3"
    },
    "language_info": {
      "codemirror_mode": {
        "name": "ipython",
        "version": 3
      },
      "file_extension": ".py",
      "mimetype": "text/x-python",
      "name": "python",
      "nbconvert_exporter": "python",
      "pygments_lexer": "ipython3",
      "version": "3.7.3"
    }
  },
  "nbformat": 4,
  "nbformat_minor": 0
}