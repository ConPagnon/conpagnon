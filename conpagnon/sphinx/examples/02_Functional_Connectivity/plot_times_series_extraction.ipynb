{
  "cells": [
    {
      "cell_type": "code",
      "execution_count": null,
      "metadata": {
        "collapsed": false
      },
      "outputs": [],
      "source": [
        "%matplotlib inline"
      ]
    },
    {
      "cell_type": "markdown",
      "metadata": {},
      "source": [
        "\nExtracting brain signals\n========================\n**What you'll learn**: Extracting the signal for each regions in\na brain atlas.\n"
      ]
    },
    {
      "cell_type": "markdown",
      "metadata": {},
      "source": [
        "**Author**: `Dhaif BEKHA <dhaif@dhaifbekha.com>`_\n\n"
      ]
    },
    {
      "cell_type": "markdown",
      "metadata": {},
      "source": [
        "Retrieve the data\n-----------------\n\nWe will work on the dataset of the first tutorial. You can simply download it\n`here <https://www.dropbox.com/sh/07r0i5kyfyweesx/AAA798Z2pWYO9FPd8gtny_E2a?dl=1>`_, and\ngo through all the necessary steps to organize your data. If you doesn't want\nto go through all those steps, you can download the results, that is the\n`dictionary <https://www.dropbox.com/s/0cz601a2ko9xen7/data_dictionary.pkl?dl=1>`_\ncontaining all the necessary to the data files paths. We will also need a brain\natlas. You can pick the `one <https://www.dropbox.com/s/wwmg0a4g3cjnfvv/atlas.nii?dl=1>`_\nfrom the tutorial examples, or fetch your own.\n\n"
      ]
    },
    {
      "cell_type": "markdown",
      "metadata": {},
      "source": [
        ".. important::\n   As usual ,we will work in the user home directory.\n\n"
      ]
    },
    {
      "cell_type": "markdown",
      "metadata": {},
      "source": [
        "Modules import\n--------------\n\n"
      ]
    },
    {
      "cell_type": "code",
      "execution_count": null,
      "metadata": {
        "collapsed": false
      },
      "outputs": [],
      "source": [
        "from pathlib import Path\nimport os\nfrom conpagnon.computing.compute_connectivity_matrices import time_series_extraction\nfrom conpagnon.utils.folders_and_files_management import load_object, save_object\nimport numpy as np\nimport pandas as pd\nimport seaborn as sns\nimport matplotlib.pyplot as plt\nfrom warnings import warn"
      ]
    },
    {
      "cell_type": "markdown",
      "metadata": {},
      "source": [
        "Setting paths, and parameters\n-----------------------------\n\nAs usual, we set all the necessary path to the data, and we also load\nthe data dictionary that you've just downloaded.\n\n"
      ]
    },
    {
      "cell_type": "code",
      "execution_count": null,
      "metadata": {
        "collapsed": false
      },
      "outputs": [],
      "source": [
        "# Fetch the path of the home directory\nhome_directory = str(Path.home())\n\n# The root fmri data directory containing all the fmri files directories\n# This is the 'data' folder in you're home directory\nroot_fmri_data_directory = os.path.join(home_directory, 'data')\n\n# Groups to include in the study: this is\n# simply the name of the folder\ngroup = ['group_1']\n\n# Filename of the atlas file.\natlas_file_name = 'atlas.nii'\n# Full path to the atlas file\natlas_path = os.path.join(home_directory, atlas_file_name)\n\n# Repetition time in your resting state\n# sequence\nt_r = 2.4\n\n# load the data dictionary, containing\n# all the paths to the functional files for\n# the groups in your study\ngroups_data_dictionary = load_object(\n    full_path_to_object=os.path.join(home_directory, 'data_dictionary.pkl'))\n\n# Full path to the text file containing the subjects identifiers\nsubjects_text_list = os.path.join(root_fmri_data_directory, 'text_data/subjects_list.txt')\n\n# Create a cache directory for Nilearn\n# when we will compute the times series\nif 'nilearn_cache' not in os.listdir(home_directory):\n    os.mkdir(os.path.join(home_directory, 'nilearn_cache'))"
      ]
    },
    {
      "cell_type": "markdown",
      "metadata": {},
      "source": [
        "Compute the times series\n------------------------\n\nNow we can call  :py:func:`conpagnon.computing.compute_connectivity_matrices.time_series_extraction`\nfunction to compute in each brain region of the atlas, and for each subject the brain signals,\ncommonly called **times series**.\n\n"
      ]
    },
    {
      "cell_type": "code",
      "execution_count": null,
      "metadata": {
        "collapsed": false
      },
      "outputs": [],
      "source": [
        "# Compute the times series for each subject\ntimes_series_dictionary = time_series_extraction(\n    root_fmri_data_directory=root_fmri_data_directory,\n    groupes=group,\n    subjects_id_data_path=subjects_text_list,\n    reference_atlas=atlas_path,\n    group_data=groups_data_dictionary,\n    repetition_time=t_r,\n    nilearn_cache_directory=os.path.join(home_directory, 'nilearn_cache'))"
      ]
    },
    {
      "cell_type": "markdown",
      "metadata": {},
      "source": [
        "The result is also a structured dictionary, following the same\nconstruction as the data dictionary. Let's take a look, at the\navailable fields for the subject 1 for example:\n\n"
      ]
    },
    {
      "cell_type": "code",
      "execution_count": null,
      "metadata": {
        "collapsed": false
      },
      "outputs": [],
      "source": [
        "# Print the dictionary key for the first subject\nprint(times_series_dictionary['group_1']['subject_1'].keys())"
      ]
    },
    {
      "cell_type": "markdown",
      "metadata": {},
      "source": [
        "The **times_series** field contain a numpy array,\nstoring the brain signal for each regions. The\nfield **masked_array** also contain a numpy array with boolean values\nof shape (number_of_brain_regions, number_of_brain_region). How to\nto possibly used the masked_array field will be discussed in the advanced\nexamples section. Now, if we print the shape of shape of the times_series\narray we get:\n\n"
      ]
    },
    {
      "cell_type": "code",
      "execution_count": null,
      "metadata": {
        "collapsed": false
      },
      "outputs": [],
      "source": [
        "print(times_series_dictionary['group_1']['subject_1']['time_series'].shape)"
      ]
    },
    {
      "cell_type": "markdown",
      "metadata": {},
      "source": [
        "The **times_series** array shape is (180, 72): 72 simply\nrepresent the number of region in the atlas we use, so\nyours may differ. 180, represent the number of time point\nin our functional image.\n\n"
      ]
    },
    {
      "cell_type": "markdown",
      "metadata": {},
      "source": [
        "Plot the time series\n--------------------\n\nWe can plot the time series to visualize the brain signal\nwe've just extracted, for the first subject. For obvious\nvisualization purposes, we will plot the first 10 regions\nonly\n\n"
      ]
    },
    {
      "cell_type": "code",
      "execution_count": null,
      "metadata": {
        "collapsed": false
      },
      "outputs": [],
      "source": [
        "# number of region to plot\nn_regions_to_plot = 10\n# Times series of the first subject\nsubject_1_time_series = times_series_dictionary['group_1']['subject_1']['time_series']\n# The time series time point:\ntime_points = np.arange(start=0, stop=subject_1_time_series.shape[0], step=1)\n# Region number\nregion_number = np.arange(start=0, stop=subject_1_time_series.shape[1], step=1)\n# Build a panda dataframe: each column contain the associated brain signal in that\n# region number\ntimes_series_dataframe = pd.DataFrame(subject_1_time_series, time_points, region_number).T\n# plot the time series\nfor i in range(n_regions_to_plot):\n    ax = sns.lineplot(x=time_points, y=times_series_dataframe.loc[i])\n    ax.set_xlabel('Time points')\n    ax.set_ylabel('Signal amplitude')\n    ax.set_title('Plot of the {} first brain signals'.format(n_regions_to_plot))\nplt.show()"
      ]
    },
    {
      "cell_type": "markdown",
      "metadata": {},
      "source": [
        "<div class=\"alert alert-info\"><h4>Note</h4><p>As you can see, those brain signals seem to be\n  very similar ! The times series are usually not\n  the primary object we will manipulate in the\n  statistical analysis. Indeed, the traditional next step\n  should be the computation of the **connectivity matrices**\n  explain in the next section.</p></div>\n\n"
      ]
    },
    {
      "cell_type": "markdown",
      "metadata": {},
      "source": [
        "Save the times series dictionary\n--------------------------------\n\nFor convenience, you can save the times series dictionary in\nyou're home directory:\n\n"
      ]
    },
    {
      "cell_type": "code",
      "execution_count": null,
      "metadata": {
        "collapsed": false
      },
      "outputs": [],
      "source": [
        "# Save the times series dictionary\nsave_object(object_to_save=times_series_dictionary,\n            saving_directory=home_directory,\n            filename='time_series_dictionary.pkl')"
      ]
    }
  ],
  "metadata": {
    "kernelspec": {
      "display_name": "Python 3",
      "language": "python",
      "name": "python3"
    },
    "language_info": {
      "codemirror_mode": {
        "name": "ipython",
        "version": 3
      },
      "file_extension": ".py",
      "mimetype": "text/x-python",
      "name": "python",
      "nbconvert_exporter": "python",
      "pygments_lexer": "ipython3",
      "version": "3.7.3"
    }
  },
  "nbformat": 4,
  "nbformat_minor": 0
}