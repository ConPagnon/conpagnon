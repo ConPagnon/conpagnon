{
  "cells": [
    {
      "cell_type": "code",
      "execution_count": null,
      "metadata": {
        "collapsed": false
      },
      "outputs": [],
      "source": [
        "%matplotlib inline"
      ]
    },
    {
      "cell_type": "markdown",
      "metadata": {},
      "source": [
        "\nTwo groups classification\n=========================\n**What you'll learn**: Perform a simple classification between two\ndistinct group of subjects, and evaluate the accuracy for different\nconnectivity metric.\n"
      ]
    },
    {
      "cell_type": "markdown",
      "metadata": {},
      "source": [
        "**Author**: `Dhaif BEKHA <dhaif@dhaifbekha.com>`_\n\n"
      ]
    },
    {
      "cell_type": "markdown",
      "metadata": {},
      "source": [
        "Retrieve the example dataset\n----------------------------\n\nIn this example, we will work directly on a pre-computed dictionary,\nthat contain two set of connectivity matrices, from two different groups.\nThe first group, called *controls* is a set of connectivity matrices from healthy\nseven years old children, and the second group called *patients*, is a set of\nconnectivity matrices from seven years old children who have suffered a stroke.\nYou can download the dictionary use in this example\n`here <https://www.dropbox.com/s/kwdrx4liauo10kr/raw_subjects_connectivity_matrices.pkl?dl=1>`_.\n\n"
      ]
    },
    {
      "cell_type": "markdown",
      "metadata": {},
      "source": [
        "Module import\n-------------\n\n"
      ]
    },
    {
      "cell_type": "code",
      "execution_count": null,
      "metadata": {
        "collapsed": false
      },
      "outputs": [],
      "source": [
        "from conpagnon.utils.folders_and_files_management import load_object, save_object\nimport numpy as np\nfrom nilearn.connectome import sym_matrix_to_vec\nfrom sklearn.model_selection import cross_val_score, StratifiedShuffleSplit\nfrom sklearn.svm import LinearSVC\nimport matplotlib.pyplot as plt\nimport seaborn as sns\nfrom matplotlib.backends.backend_pdf import PdfPages\nimport os\nfrom pathlib import Path"
      ]
    },
    {
      "cell_type": "markdown",
      "metadata": {},
      "source": [
        "Load data, and set Path\n-----------------------\n\nWe will load the pre-computed dictionary containing the connectivity matrices\nfor each subjects, for different metrics. We already used this exact same\ndictionary in the t-test example.\n\n"
      ]
    },
    {
      "cell_type": "code",
      "execution_count": null,
      "metadata": {
        "collapsed": false
      },
      "outputs": [],
      "source": [
        "# Fetch the path of the home directory\nhome_directory = str(Path.home())\n\n# Load the dictionary containing the connectivity matrices\nsubjects_connectivity_matrices = load_object(\n    full_path_to_object=os.path.join(home_directory, 'raw_subjects_connectivity_matrices.pkl'))\n\n# Fetch tne group name, for this classification\n# task, the group name are the class name too.\ngroups = list(subjects_connectivity_matrices.keys())"
      ]
    },
    {
      "cell_type": "markdown",
      "metadata": {},
      "source": [
        "Classification between the two group\n------------------------------------\n\nWe will compute a classification task for each connectivity\nat disposal, between the two group. In this example, we will\nuse a classical support vector machine (SVM) algorithm with\na linear kernel. We will leave the hyperparameters by default.\nFirst we create the labels for each class, that is simply create\na 1D vector with binary labels. We naturally cross validate our\nresults with a Stratified Shuffle and Split strategy. The evaluation\nmetric of classification scores, will be the accuracy.\nThe features are simply the **connectivity coefficient** , and\nwe take the lower triangle only, because of the symmetry of\nthe connectivity matrices. We have to vectorize each matrices in\norder to produce a data array of shape (n_subjects, n_features).\n\n"
      ]
    },
    {
      "cell_type": "code",
      "execution_count": null,
      "metadata": {
        "collapsed": false
      },
      "outputs": [],
      "source": [
        "# Labels vectors: 0 for the first class, 1 for the second. Those\n# 1, and 0 are the label for each subjects.\nclass_labels = np.hstack((np.zeros(len(subjects_connectivity_matrices[groups[0]].keys())),\n                          np.ones(len(subjects_connectivity_matrices[groups[1]].keys()))))\n\n# total number of subject\nn_subjects = len(class_labels)\n\n# Stratified Shuffle and Split cross validation:\n# we initialize the cross validation object\n# and set the split to 10000.\ncv = StratifiedShuffleSplit(n_splits=10000,\n                            random_state=0)\n\n# Instance initialization of SVM classifier with a linear kernel\nsvc = LinearSVC()\n\n# Compare the classification accuracy across multiple metric\nmetrics = ['tangent', 'correlation', 'partial correlation']\nmean_scores = []\n\n# To decrease the computation time you\n# can distribute the computation on\n# multiple core, here, 4.\nn_jobs = 4\n\n# Final mean accuracy scores will be stored in a dictionary\nmean_score_dict = {}\nfor metric in metrics:\n    # We take the lower triangle of each matrices, and vectorize it to\n    # produce a classical machine learning data array of shape (n_subjects, n_features)\n    features = sym_matrix_to_vec(np.array([subjects_connectivity_matrices[group][subject][metric]\n                                           for group in groups\n                                           for subject in subjects_connectivity_matrices[group].keys()],\n                                          ), discard_diagonal=True)\n    print('Evaluate classification performance on {} with '\n          '{} observations and {} features...'.format(metric, n_subjects, features.shape[1]))\n    # We call cross_val_score, a convenient scikit-learn\n    # wrapper that will perform the classification task\n    # with the desired cross-validation scheme.\n    cv_scores = cross_val_score(estimator=svc, X=features,\n                                y=class_labels, cv=cv,\n                                scoring='accuracy', n_jobs=n_jobs)\n    # We compute the mean cross-validation score\n    # over all the splits\n    mean_scores.append(cv_scores.mean())\n    # We store the mean accuracy score\n    # in a dictionary.\n    mean_score_dict[metric] = cv_scores.mean()\n    print('Done for {}'.format(metric))"
      ]
    },
    {
      "cell_type": "markdown",
      "metadata": {},
      "source": [
        "Barplot of the accuracy\n-----------------------\n\nWe can plot the accuracy for each metric in a barplot. We simply use\nthe dictionary in which we stored the accuracy score for each metric.\n\n"
      ]
    },
    {
      "cell_type": "code",
      "execution_count": null,
      "metadata": {
        "collapsed": false
      },
      "outputs": [],
      "source": [
        "plt.figure()\nsns.barplot(x=list(mean_score_dict.keys()), y=list(mean_score_dict.values()))\nplt.xlabel('Connectivity metrics')\nplt.ylabel('Mean scores of classification')\nplt.title('Mean scores of classification using different kind of connectivity')\nplt.show()"
      ]
    },
    {
      "cell_type": "markdown",
      "metadata": {},
      "source": [
        ".. important::\n  As you can see, the accuracy vary between connectivity metric.\n  The tangent metric present the best accuracy scores here. So if\n  classification is your main objective, you should choose very\n  carefully the metric. Different machine learning algorithm will\n  perform differently, I encourage you to test multiple algorithm\n  on your data.\n\n"
      ]
    }
  ],
  "metadata": {
    "kernelspec": {
      "display_name": "Python 3",
      "language": "python",
      "name": "python3"
    },
    "language_info": {
      "codemirror_mode": {
        "name": "ipython",
        "version": 3
      },
      "file_extension": ".py",
      "mimetype": "text/x-python",
      "name": "python",
      "nbconvert_exporter": "python",
      "pygments_lexer": "ipython3",
      "version": "3.7.3"
    }
  },
  "nbformat": 4,
  "nbformat_minor": 0
}