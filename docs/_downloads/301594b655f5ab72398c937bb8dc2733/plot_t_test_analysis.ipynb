{
  "cells": [
    {
      "cell_type": "code",
      "execution_count": null,
      "metadata": {
        "collapsed": false
      },
      "outputs": [],
      "source": [
        "%matplotlib inline"
      ]
    },
    {
      "cell_type": "markdown",
      "metadata": {},
      "source": [
        "\nTwo samples t-test\n==================\n**What you'll learn**: Compute a two-samples t-test between two groups of\nconnectivity matrices, and plot the results on a glass brain.\n"
      ]
    },
    {
      "cell_type": "markdown",
      "metadata": {},
      "source": [
        "**Author**: `Dhaif BEKHA <dhaif@dhaifbekha.com>`_\n\n"
      ]
    },
    {
      "cell_type": "markdown",
      "metadata": {},
      "source": [
        "Retrieve the example dataset\n----------------------------\n\nIn this example, we will work directly on a pre-computed dictionary,\nthat contain two set of connectivity matrices, from two different groups.\nThe first group, called *controls* is a set of connectivity matrices from healthy\nseven years old children, and the second group called *patients*, is a set of\nconnectivity matrices from seven years old children who have suffered a stroke.\nYou can download the dictionary use in this example\n`here <https://www.dropbox.com/s/kwdrx4liauo10kr/raw_subjects_connectivity_matrices.pkl?dl=1>`_.\n\n"
      ]
    },
    {
      "cell_type": "markdown",
      "metadata": {},
      "source": [
        "Module import\n-------------\n\n"
      ]
    },
    {
      "cell_type": "code",
      "execution_count": null,
      "metadata": {
        "collapsed": false
      },
      "outputs": [],
      "source": [
        "from conpagnon.utils.folders_and_files_management import load_object, save_object\nfrom conpagnon.connectivity_statistics.parametric_tests import two_samples_t_test\nfrom conpagnon.plotting.display import plot_ttest_results, plot_matrix\nfrom conpagnon.data_handling import atlas\nfrom pathlib import Path\nimport os\nimport matplotlib.pyplot as plt"
      ]
    },
    {
      "cell_type": "markdown",
      "metadata": {},
      "source": [
        "Load data, and set Path\n-----------------------\n\nWe first load the dictionary containing the connectivity matrices for each\ngroup of subjects. We will work as usual in your home directory. We will also\nexplore what's in this dictionary, such as the different group, the number of subject ...\n\n"
      ]
    },
    {
      "cell_type": "code",
      "execution_count": null,
      "metadata": {
        "collapsed": false
      },
      "outputs": [],
      "source": [
        "# Fetch the path of the home directory\nhome_directory = str(Path.home())\n\n# Load the dictionary containing the connectivity matrices\nsubjects_connectivity_matrices = load_object(\n    full_path_to_object=os.path.join(home_directory, 'raw_subjects_connectivity_matrices.pkl'))\n\n# Fetch the group name\ngroups = list(subjects_connectivity_matrices.keys())\nprint(groups)\n\n# Number of subjects in the control, and\n# patients group\nprint('There is {} subjects in the {} group, and {} in the {} group'.format(\n    len(subjects_connectivity_matrices[groups[0]]), groups[0],\n    len(subjects_connectivity_matrices[groups[1]]), groups[1]))\n\n# Print the list of connectivity metric available,\n# taking the first subject, in the first group for\n# example:\nprint('List of computed connectivity metric: {}'.format(subjects_connectivity_matrices['controls']))"
      ]
    },
    {
      "cell_type": "markdown",
      "metadata": {},
      "source": [
        "<div class=\"alert alert-info\"><h4>Note</h4><p>As you can see, the dictionary is a very convenient way to store data. You can\n  as many field as you want, and you can fetch very easily any data from a particular\n  subject.</p></div>\n\n"
      ]
    },
    {
      "cell_type": "markdown",
      "metadata": {},
      "source": [
        "Compute a simple t-test\n----------------------\n\nWe will compute a two samples t-test between the control group and the\npatients group. We will compute this test for the three connectivity\nmetric we have at disposal in the dictionary. The results, will be store\nin a dictionary for convenience.\n\n"
      ]
    },
    {
      "cell_type": "code",
      "execution_count": null,
      "metadata": {
        "collapsed": false
      },
      "outputs": [],
      "source": [
        "# Call the t-test function:\nt_test_dictionary = two_samples_t_test(subjects_connectivity_matrices_dictionnary=subjects_connectivity_matrices,\n                                       groupes=groups,\n                                       kinds=['correlation', 'partial correlation', 'tangent'],\n                                       contrast=[1, -1],\n                                       preprocessing_method='fisher',\n                                       alpha=.05,\n                                       multicomp_method='fdr_bh')"
      ]
    },
    {
      "cell_type": "markdown",
      "metadata": {},
      "source": [
        "As you can see in the code above, we compute a t-test for three\nconnectivity metric: **correlation**, **partial correlation** and\n**tangent**. The contrast we use between patients and controls is\nthe vector [1, -1], that means the controls are the reference.\nWe specify **fisher** as *preprocessing_method*, that mean for\ncorrelation and the partial correlation matrices, a z-fisher transform\nis applied before the t-test.\n\n"
      ]
    },
    {
      "cell_type": "markdown",
      "metadata": {},
      "source": [
        "<div class=\"alert alert-info\"><h4>Note</h4><p>We applied a correction to deal with the classical\n  problem of multiple comparison. The correction by\n  default is FDR. Please, read the docstring of\n  the :py:func:`conpagnon.connectivity_statistics.parametric_tests.two_samples_t_test`\n  function for detailed explanation of the arguments.</p></div>\n\n"
      ]
    },
    {
      "cell_type": "code",
      "execution_count": null,
      "metadata": {
        "collapsed": false
      },
      "outputs": [],
      "source": [
        "# Explore the t_test_dictionary\n\n# The first set of keys, is the list of\n# connectivity metric we computed the t-test\n# for:\nprint(list(t_test_dictionary.keys()))\n\n# And in each connectivity key, we find different\n# matrices storing the result of the t-test, for the\n# correlation key for example:\nprint(list(t_test_dictionary['correlation'].keys()))"
      ]
    },
    {
      "cell_type": "markdown",
      "metadata": {},
      "source": [
        "Plot the results on a glass brain\n---------------------------------\n\nFor a better understanding of the results, we can plot the results,\ndirectly on a glass brain. In ConPagnon, you can do it easily with\nthe dedicated function **plot_ttest_results**. For plotting purposes\nonly we will use in this section, the atlas we already manipulate in the\nfirst section. You can download the `atlas <https://www.dropbox.com/s/wwmg0a4g3cjnfvv/atlas.nii?dl=1>`_,\nand the corresponding `labels <https://www.dropbox.com/s/3wuzwn14l7nksvy/atlas_labels.csv?dl=1>`_\nfor each regions.\n\n"
      ]
    },
    {
      "cell_type": "markdown",
      "metadata": {},
      "source": [
        "<div class=\"alert alert-danger\"><h4>Warning</h4><p>All those files, as a reminder, should be in your home\n  directory.</p></div>\n\n"
      ]
    },
    {
      "cell_type": "code",
      "execution_count": null,
      "metadata": {
        "collapsed": false
      },
      "outputs": [],
      "source": [
        "# First, we will load the atlas, and fetching\n# in particular, the nodes coordinates of each regions\n# because we will need those coordinates for the glass brain\n# plotting\n\n# Filename of the atlas file.\natlas_file_name = 'atlas.nii'\n# Full path to atlas labels file\natlas_label_file = os.path.join(home_directory, 'atlas_labels.csv')\n# Set the colors of the twelves network in the atlas\ncolors = ['navy', 'sienna', 'orange', 'orchid', 'indianred', 'olive',\n          'goldenrod', 'turquoise', 'darkslategray', 'limegreen', 'black',\n          'lightpink']\n# Number of regions in each of the network\nnetworks = [2, 10, 2, 6, 10, 2, 8, 6, 8, 8, 6, 4]\n# We can call fetch_atlas to retrieve useful information about the atlas\natlas_nodes, labels_regions, labels_colors, n_nodes = atlas.fetch_atlas(\n    atlas_folder=home_directory,\n    atlas_name=atlas_file_name,\n    network_regions_number=networks,\n    colors_labels=colors,\n    labels=atlas_label_file,\n    normalize_colors=True)\n\n# Now we can plot the t-test results\n# on a glass brain\nplot_ttest_results(t_test_dictionnary=t_test_dictionary,\n                   groupes=groups,\n                   contrast=[1, -1],\n                   node_coords=atlas_nodes,\n                   node_color=labels_colors,\n                   output_pdf=os.path.join(home_directory, 't_test_results.pdf'))\nplt.show()"
      ]
    },
    {
      "cell_type": "markdown",
      "metadata": {},
      "source": [
        "We plotted the t-test results for each\nconnectivity metrics. In each glass brain,\nwe only plot the edges between rois\nassociated with a corrected p-values under\nthe user type I error rate. For those edges,\nwe plot the difference in the mean connectivity\nbetween the two group, according the desired\ncontrast. We also generate in your home directory\na simple Pdf report with the three glass brain.\n\n"
      ]
    },
    {
      "cell_type": "markdown",
      "metadata": {},
      "source": [
        ".. important::\n  As you can see, the results are quite similar\n  between *partial correlation* and the *tangent*\n  connectivity metric, but very different from the\n  *correlation* metric. Indeed, you have to choose\n  very carefully the metric, depending on various\n  parameter: the size of your sample, the effect size\n  of the parameter you study, the problem you wan to resolve.....\n\n"
      ]
    },
    {
      "cell_type": "markdown",
      "metadata": {},
      "source": [
        "Plot the results on a matrix\n----------------------------\n\nThe glass brain is very good to have a quick visual\nview of the results projected on a brain, but we can\nalso display the same results with a 2D matrix: a t-value\nmatrix, with the corresponding p-value matrix. In that way,\nyou will identified clearly which brain regions are involved\nin the computed contrast. We will compute those matrices for\nthe tangent metric only, but it naturally apply for the other\ntwo metric.\n\n"
      ]
    },
    {
      "cell_type": "code",
      "execution_count": null,
      "metadata": {
        "collapsed": false
      },
      "outputs": [],
      "source": [
        "# Metric we want to plot\nmetric = 'tangent'\n# First we fetch the threshold t-values\n# edges matrix\nsignificant_edges_matrix = t_test_dictionary[metric]['significant edges']\n# We also fetch the corrected p-values matrix\ncorrected_p_values_matrix = t_test_dictionary[metric]['corrected pvalues']\n\n# We can plot the t-values matrix\nplot_matrix(matrix=significant_edges_matrix, labels_colors=labels_colors,\n            horizontal_labels=labels_regions, vertical_labels=labels_regions,\n            linecolor='black', linewidths=.1,\n            title='Thresholded t-values matrix for the {} metric'.format(metric))\nplt.show()\n\n# We can now plot the p-values matrix\nplot_matrix(matrix=corrected_p_values_matrix, labels_colors=labels_colors,\n            horizontal_labels=labels_regions, vertical_labels=labels_regions,\n            linecolor='black', linewidths=.1, colormap='hot', vmax=0.05,\n            title='Thresholded t-values matrix for the {} metric'.format(metric))\nplt.show()\n\n# Finally you can save the t test dictionary for further\n# use if you want\nsave_object(object_to_save=t_test_dictionary,\n            saving_directory=home_directory,\n            filename='t_test_dictionary_example.pkl')"
      ]
    },
    {
      "cell_type": "markdown",
      "metadata": {},
      "source": [
        "<div class=\"alert alert-info\"><h4>Note</h4><p>In those matrix plot, we only plot the lower triangle\n  of the matrix, indeed we only did half the test because\n  connectivity matrices are symetric. Note also the liberty we\n  have in the :py:func:`plot_matrix` function, in term of colormap,\n  max and min values....</p></div>\n\n"
      ]
    }
  ],
  "metadata": {
    "kernelspec": {
      "display_name": "Python 3",
      "language": "python",
      "name": "python3"
    },
    "language_info": {
      "codemirror_mode": {
        "name": "ipython",
        "version": 3
      },
      "file_extension": ".py",
      "mimetype": "text/x-python",
      "name": "python",
      "nbconvert_exporter": "python",
      "pygments_lexer": "ipython3",
      "version": "3.7.3"
    }
  },
  "nbformat": 4,
  "nbformat_minor": 0
}