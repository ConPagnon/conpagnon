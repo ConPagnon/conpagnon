{
  "cells": [
    {
      "cell_type": "code",
      "execution_count": null,
      "metadata": {
        "collapsed": false
      },
      "outputs": [],
      "source": [
        "%matplotlib inline"
      ]
    },
    {
      "cell_type": "markdown",
      "metadata": {},
      "source": [
        "\nBuild the connectivity matrices\n===============================\n**What you'll learn**: Compute the connectivity matrices\nfor different metrics.\n"
      ]
    },
    {
      "cell_type": "markdown",
      "metadata": {},
      "source": [
        "**Author**: `Dhaif BEKHA <dhaif@dhaifbekha.com>`_\n\n"
      ]
    },
    {
      "cell_type": "markdown",
      "metadata": {},
      "source": [
        "Retrieve the data\n-----------------\n\nThis tutorial is directly the next steps of the previous tutorial,\nin which we learn how to extract brain signals. In the end, we saved\nthe dictionary containing those brain signals, in your home directory.\nIf you didn't followed this tutorials, you can download directly the\n`time series dictionary <https://www.dropbox.com/s/eq0vy62vw9sbxnf/time_series_dictionary.pkl?dl=1>`_,\nand put it in home directory. Optionally, you will need an atlas for plotting\npurpose. We will use in this section, the atlas we already manipulate in the\nfirst section. You can download the `atlas <https://www.dropbox.com/s/wwmg0a4g3cjnfvv/atlas.nii?dl=1>`_,\nand the corresponding `labels <https://www.dropbox.com/s/3wuzwn14l7nksvy/atlas_labels.csv?dl=1>`_\nfor each regions.\n\n"
      ]
    },
    {
      "cell_type": "markdown",
      "metadata": {},
      "source": [
        ".. important::\n   As usual ,we will work in the user home directory.\n\n"
      ]
    },
    {
      "cell_type": "markdown",
      "metadata": {},
      "source": [
        "Modules import\n--------------\n\n"
      ]
    },
    {
      "cell_type": "code",
      "execution_count": null,
      "metadata": {
        "collapsed": false
      },
      "outputs": [],
      "source": [
        "from conpagnon.computing import compute_connectivity_matrices as ccm\nfrom conpagnon.utils.folders_and_files_management import load_object, save_object\nfrom conpagnon.plotting.display import plot_matrix\nfrom conpagnon.data_handling import atlas\nimport matplotlib.pyplot as plt\nfrom sklearn.covariance import LedoitWolf\nfrom pathlib import Path\nimport os"
      ]
    },
    {
      "cell_type": "markdown",
      "metadata": {},
      "source": [
        "Load the time series dictionary\n-------------------------------\n\n"
      ]
    },
    {
      "cell_type": "code",
      "execution_count": null,
      "metadata": {
        "collapsed": false
      },
      "outputs": [],
      "source": [
        "# Fetch the path of the home directory\nhome_directory = str(Path.home())\n\n# Load the times series dictionary in your\n# home directory\ntimes_series_dictionary = load_object(\n    full_path_to_object=os.path.join(home_directory, 'time_series_dictionary.pkl'))\n\n# Retrieve the groups in the study: it's\n# simply the keys of the dictionary\ngroups = list(times_series_dictionary.keys())"
      ]
    },
    {
      "cell_type": "markdown",
      "metadata": {},
      "source": [
        "Compute the connectivity matrices\n---------------------------------\n\n**Connectivity matrices** are simply a way of representing interactions\nbetween different part of the brain. They are the start of all statistical\nalgorithms in ConPagnon. The most common metric use in functional connectivity\nanalysis is **correlation**. Numerous other metric exist, depending on the type\nof analysis you conduct, some are better suited than other.\n\n"
      ]
    },
    {
      "cell_type": "code",
      "execution_count": null,
      "metadata": {
        "collapsed": false
      },
      "outputs": [],
      "source": [
        "# The first step is to choose a estimator for the covariance matrix,\n# the base matrix before computing other type:\ncovariance_estimator = LedoitWolf()\n\n# We can compute connectivity matrices\nmetrics = ['correlation', 'partial correlation', 'tangent']"
      ]
    },
    {
      "cell_type": "markdown",
      "metadata": {},
      "source": [
        "<div class=\"alert alert-info\"><h4>Note</h4><p>In this example, we choose to compute three different\n  connectivity metrics. You can view the list of\n  available metrics in the :py:class:`nilearn.connectome.ConnectivityMeasure` class.</p></div>\n\n"
      ]
    },
    {
      "cell_type": "code",
      "execution_count": null,
      "metadata": {
        "collapsed": false
      },
      "outputs": [],
      "source": [
        "connectivity_matrices = ccm.individual_connectivity_matrices(\n    time_series_dictionary=times_series_dictionary,\n    kinds=metrics,\n    covariance_estimator=covariance_estimator,\n    z_fisher_transform=False)"
      ]
    },
    {
      "cell_type": "markdown",
      "metadata": {},
      "source": [
        "**connectivity_matrices** is also a dictionary, with the same base structure\nas the times series dictionary. But this time, for each subject, you will\nfind a new dictionary with as many keys as connectivity you wanted, each\ncontaining a 2D numpy array of shape (number_of_regions, number_of_regions).\n\n"
      ]
    },
    {
      "cell_type": "code",
      "execution_count": null,
      "metadata": {
        "collapsed": false
      },
      "outputs": [],
      "source": [
        "# Let's take a look at the first correlation connectivity matrix\n# of the first region\nprint(connectivity_matrices['group_1']['subject_1']['correlation'])\n# The shape of the matrices is naturally a square matrix\n# with the dimension equal to the number of region of\n# the atlas you used\nprint(connectivity_matrices['group_1']['subject_1']['correlation'].shape)"
      ]
    },
    {
      "cell_type": "markdown",
      "metadata": {},
      "source": [
        "Simple plot of connectivity matrices\n------------------------------------\n\nWe often represent connectivity matrices with a 2D plot, a heatmap,\nwith a colormap that cover the entire range of variation of the\nconnectivity coefficients. It's a very intuitive way of visualizing\nthose king of matrices. First, we wil plot the entire matrices, without\nthe regions labels/color:\n\n"
      ]
    },
    {
      "cell_type": "code",
      "execution_count": null,
      "metadata": {
        "collapsed": false
      },
      "outputs": [],
      "source": [
        "# We will take the correlation matrix of the first\n# subject\nsubject_1_correlation = connectivity_matrices['group_1']['subject_1']['correlation']\nplot_matrix(matrix=subject_1_correlation,\n            title=\"The correlation matrix of the first subject.\")\nplt.show()"
      ]
    },
    {
      "cell_type": "markdown",
      "metadata": {},
      "source": [
        "<div class=\"alert alert-info\"><h4>Note</h4><p>By default, the :py:func:`plot_matrix` function, will only plot\n  the **lower** triangle of the matrix, for the simple reason that\n  by construction, connectivity matrices are symmetric. If you want to plot\n  the full matrix, you must set the argument **mpart** to 'all'.</p></div>\n\n"
      ]
    },
    {
      "cell_type": "markdown",
      "metadata": {},
      "source": [
        "A more complete plot of connectivity matrices\n---------------------------------------------\n\nWe can add to the previous matrix plot, a little more information. For\nexample we can add the atlas regions labels for the x-axis, and y-axis.\nWe can also color the label with the network colors they are belonging to.\nIn the following example, we will use the atlas used in the first section of\nthis tutorial :\n\n"
      ]
    },
    {
      "cell_type": "code",
      "execution_count": null,
      "metadata": {
        "collapsed": false
      },
      "outputs": [],
      "source": [
        "# We load the atlas, attributing a color\n# to each network (user defined).\n\n# Fetch the path of the home directory\nhome_directory = str(Path.home())\n# Filename of the atlas file.\natlas_file_name = 'atlas.nii'\n# Full path to atlas labels file\natlas_label_file = os.path.join(home_directory, 'atlas_labels.csv')\n# Set the colors of the twelves network in the atlas\ncolors = ['navy', 'sienna', 'orange', 'orchid', 'indianred', 'olive',\n          'goldenrod', 'turquoise', 'darkslategray', 'limegreen', 'black',\n          'lightpink']\n# Number of regions in each of the network\nnetworks = [2, 10, 2, 6, 10, 2, 8, 6, 8, 8, 6, 4]\n# We can call fetch_atlas to retrieve useful information about the atlas\natlas_nodes, labels_regions, labels_colors, n_nodes = atlas.fetch_atlas(\n    atlas_folder=home_directory,\n    atlas_name=atlas_file_name,\n    network_regions_number=networks,\n    colors_labels=colors,\n    labels=atlas_label_file,\n    normalize_colors=True)"
      ]
    },
    {
      "cell_type": "markdown",
      "metadata": {},
      "source": [
        "Now we can call the :py:func:`plot_matrix` function again,\nbut this time, we will put the atlas label regions, on the\nside, and we will color them according to the network.\n\n"
      ]
    },
    {
      "cell_type": "code",
      "execution_count": null,
      "metadata": {
        "collapsed": false
      },
      "outputs": [],
      "source": [
        "# Plot of the full correlation matrix for the first subject\nplot_matrix(matrix=subject_1_correlation, mpart='all',\n            horizontal_labels=labels_regions, vertical_labels=labels_regions,\n            labels_colors=labels_colors, linecolor='black', linewidths=.3,\n            title=\"The correlation matrix of the first subject.\")\nplt.show()"
      ]
    },
    {
      "cell_type": "markdown",
      "metadata": {},
      "source": [
        "Save the connectivity matrices dictionary\n-----------------------------------------\n\nFinally, you can save the dictionary containing the connectivity\nmatrices to avoid re-computing it, and reuse it easily for your\nstatistical analysis.\n\n"
      ]
    },
    {
      "cell_type": "code",
      "execution_count": null,
      "metadata": {
        "collapsed": false
      },
      "outputs": [],
      "source": [
        "# Save the subject connectivity matrices\nsave_object(object_to_save=connectivity_matrices,\n            saving_directory=home_directory,\n            filename='subjects_connectivity_matrices.pkl')"
      ]
    }
  ],
  "metadata": {
    "kernelspec": {
      "display_name": "Python 3",
      "language": "python",
      "name": "python3"
    },
    "language_info": {
      "codemirror_mode": {
        "name": "ipython",
        "version": 3
      },
      "file_extension": ".py",
      "mimetype": "text/x-python",
      "name": "python",
      "nbconvert_exporter": "python",
      "pygments_lexer": "ipython3",
      "version": "3.7.3"
    }
  },
  "nbformat": 4,
  "nbformat_minor": 0
}