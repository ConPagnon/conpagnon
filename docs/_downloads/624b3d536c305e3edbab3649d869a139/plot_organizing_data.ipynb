{
  "cells": [
    {
      "cell_type": "code",
      "execution_count": null,
      "metadata": {
        "collapsed": false
      },
      "outputs": [],
      "source": [
        "%matplotlib inline"
      ]
    },
    {
      "cell_type": "markdown",
      "metadata": {},
      "source": [
        "\nBasic data organization\n=======================\n**What you'll learn**: Organize you're dataset for ConPagnon processing, and learn how to retrieve it,\nand store it efficiently.\n"
      ]
    },
    {
      "cell_type": "markdown",
      "metadata": {},
      "source": [
        "**Author**: `Dhaif BEKHA <dhaif@dhaifbekha.com>`_\n\n"
      ]
    },
    {
      "cell_type": "markdown",
      "metadata": {},
      "source": [
        "Retrieve the example dataset\n----------------------------\n\nFor this example, we will work on a very simple dataset consisting in five\npre-processed resting state images. We will show you after how to organize\nthe data with confound to be regressed out if you have it.\nPlease, download the example `dataset <https://www.dropbox.com/sh/07r0i5kyfyweesx/AAA798Z2pWYO9FPd8gtny_E2a?dl=1>`_.\n\n"
      ]
    },
    {
      "cell_type": "markdown",
      "metadata": {},
      "source": [
        ".. important::\n    Once you've downloaded the example dataset, make sure to unzip it,\n    and move it to you're home directory. If you are not in you're home\n    directory, make sure to change all the path leading to data !\n    For the rest of the tutorial, we will assume that you've moved\n    the folder 'data' in you're home directory.\n\n"
      ]
    },
    {
      "cell_type": "markdown",
      "metadata": {},
      "source": [
        "Data folder structure\n-----------------------\n\nIn the data folder, you will find a folder called **group_1** containing\nthe resting state images, in the .nii.gz format. You will find  a second folder\ncalled **text_data** containing a single .txt file, with only one column\nrepresenting the subject identifier or ids, for each subject.\n\n"
      ]
    },
    {
      "cell_type": "markdown",
      "metadata": {},
      "source": [
        "Import all the module we will need\n----------------------------------\n\n"
      ]
    },
    {
      "cell_type": "code",
      "execution_count": null,
      "metadata": {
        "collapsed": false
      },
      "outputs": [],
      "source": [
        "from conpagnon.data_handling.data_architecture import fetch_data\nfrom conpagnon.utils.folders_and_files_management import check_directories_existence\nfrom pathlib import Path\nimport os\nimport pandas as pd"
      ]
    },
    {
      "cell_type": "markdown",
      "metadata": {},
      "source": [
        "Setting paths to the data\n-------------------------\n\n"
      ]
    },
    {
      "cell_type": "code",
      "execution_count": null,
      "metadata": {
        "collapsed": false
      },
      "outputs": [],
      "source": [
        "# The first steps is to set the paths to all the relevant data paths.\n\n# Fetch the path of the home directory\nhome_directory = str(Path.home())\n\n# The root fmri data directory containing all the fmri files directories\n# This is the 'data' folder in you're **home directory**\nroot_fmri_data_directory = os.path.join(home_directory, 'data')\n\n# Groups to include in the study: this is\n# simply the name of the folder\ngroup = ['group_1']\n\n# We simply check that the root data directory,\n# and the group directory exist, if not exception\n# is raised we're good to go !\ncheck_directories_existence(root_directory=root_fmri_data_directory,\n                            directories_list=group)"
      ]
    },
    {
      "cell_type": "markdown",
      "metadata": {},
      "source": [
        ".. important::\n   The **name** of the folder containing\n   you're resting state images, is considered\n   in ConPagnon to be the name of the group\n   in the study. Often those groups are called\n   'patients', 'controls', etc. In this example, it's\n   simply 'group_1\".\n\n"
      ]
    },
    {
      "cell_type": "code",
      "execution_count": null,
      "metadata": {
        "collapsed": false
      },
      "outputs": [],
      "source": [
        "# Full path to the text file containing the subjects identifiers\nsubjects_text_list = os.path.join(root_fmri_data_directory, 'text_data/subjects_list.txt')\n# We read this files with pandas\nsubjects = list(pd.read_csv(subjects_text_list, header=None)[0])\n# Naturally, when we print we get:\nprint(subjects)\n\n# Now, we can fetch the data, i.e the functional image\n# present in the group_1 directory.\ndata_dictionary = fetch_data(subjects_id_data_path=subjects_text_list,\n                             root_fmri_data_directory=root_fmri_data_directory,\n                             groupes=group,\n                             individual_confounds_directory=None)\n\n# Let's print the result:\nprint(data_dictionary)"
      ]
    },
    {
      "cell_type": "markdown",
      "metadata": {},
      "source": [
        "Once you fetch you're data with the :py:func:`conpagnon.data_handling.data_architecture.fetch_data` function, you\nget a Python dictionary. The first level of keys, is simply the groups names, here\nit's just 'group_1', since we only have one group. The value of this key, is another\ndictionary, with the subject identifier name as keys, and as value, a dictionary with\ntwo field: 'functional_file', indicating the full path to the subject image, and 'confound_file',\nindicating the full path to the text file containing possible confound to regress. It's empty here,\nbecause the images are already preprocessed.\n\n"
      ]
    },
    {
      "cell_type": "markdown",
      "metadata": {},
      "source": [
        "With confounds files\n--------------------\n\n"
      ]
    },
    {
      "cell_type": "markdown",
      "metadata": {},
      "source": [
        "We previously assumed that you have already completely\npreprocessed you're data. In some case, you may have not completed\nthis step. The steps are exactly the same, the only difference is that\nyou have to create a directory, at the root of the data folder.  In this\ndirectory, you should put the confounds file in the .csv format. The filename\nrules, is the same as the functional images: the filename of all confound files\nshould contain the subject identifier at least.\nOnce you've done that, you should put the full path of the confound directory\nin the argument called **individual_confounds_directory** in the\n:py:func:`conpagnon.data_handling.data_architecture.fetch_data` function.\n\n"
      ]
    }
  ],
  "metadata": {
    "kernelspec": {
      "display_name": "Python 3",
      "language": "python",
      "name": "python3"
    },
    "language_info": {
      "codemirror_mode": {
        "name": "ipython",
        "version": 3
      },
      "file_extension": ".py",
      "mimetype": "text/x-python",
      "name": "python",
      "nbconvert_exporter": "python",
      "pygments_lexer": "ipython3",
      "version": "3.7.3"
    }
  },
  "nbformat": 4,
  "nbformat_minor": 0
}