{
  "cells": [
    {
      "cell_type": "code",
      "execution_count": null,
      "metadata": {
        "collapsed": false
      },
      "outputs": [],
      "source": [
        "%matplotlib inline"
      ]
    },
    {
      "cell_type": "markdown",
      "metadata": {},
      "source": [
        "\nRegression analysis\n===================\n**What you'll learn**: Perform a simple linear regression to find\na linear relationship between a continuous behavioral variable and\nresting state functional connectivity matrices.\n"
      ]
    },
    {
      "cell_type": "markdown",
      "metadata": {},
      "source": [
        "**Author**: `Dhaif BEKHA <dhaif@dhaifbekha.com>`_\n\n"
      ]
    },
    {
      "cell_type": "markdown",
      "metadata": {},
      "source": [
        "Retrieve the example dataset\n----------------------------\n\nIn this example, we will work directly on a pre-computed dictionary,\nthat contain two set of connectivity matrices, from two different groups.\nThe first group, called *controls* is a set of connectivity matrices from healthy\nseven years old children, and the second group called *patients*, is a set of\nconnectivity matrices from seven years old children who have suffered a stroke.\nYou can download the dictionary use in this example\n`here <https://www.dropbox.com/s/kwdrx4liauo10kr/raw_subjects_connectivity_matrices.pkl?dl=1>`_.\nIn this example we will perform a regression analysis on a continuous variable. You\ncan also download a\n`table <https://www.dropbox.com/scl/fi/w5mxeel9ihmlksxfz88or/regression_data.xlsx?dl=1&rlkey=3srxro9jm8k0e2asbwfetxnjl>`_\n, containing one behavioral variable for all subject in the patients group.\n\n"
      ]
    },
    {
      "cell_type": "markdown",
      "metadata": {},
      "source": [
        "Module import\n-------------\n\n"
      ]
    },
    {
      "cell_type": "code",
      "execution_count": null,
      "metadata": {
        "collapsed": false
      },
      "outputs": [],
      "source": [
        "import pandas as pd\nfrom pathlib import Path\nimport os\nfrom conpagnon.utils.folders_and_files_management import load_object\nfrom conpagnon.connectivity_statistics.parametric_tests import linear_regression\nfrom conpagnon.data_handling import atlas\nfrom conpagnon.plotting.display import plot_matrix\nimport numpy as np\nimport matplotlib.pyplot as plt\nfrom seaborn import lmplot"
      ]
    },
    {
      "cell_type": "markdown",
      "metadata": {},
      "source": [
        "Load data, and set Path\n-----------------------\n\nWe will perform a regression analysis and in this case we aim to find\na linear relationship between the functional connectivity and a continuous\nvariable, which is traditionally a score measuring an individual performance\nfor a particular cognitive task. In our case, for this simple example, this score\nwill be interpreted as the mean performance for a battery of sub-test regarding the language\nfunction.\n\n"
      ]
    },
    {
      "cell_type": "code",
      "execution_count": null,
      "metadata": {
        "collapsed": false
      },
      "outputs": [],
      "source": [
        "# Fetch the path of the home directory\nhome_directory = str(Path.home())\n\n# Load the dictionary containing the connectivity matrices\nsubjects_connectivity_matrices = load_object(\n    full_path_to_object=os.path.join(home_directory, 'raw_subjects_connectivity_matrices.pkl'))\n\n# Load the data table\nregression_data_path = os.path.join(home_directory, 'regression_data.xlsx')\nregression_data_table = pd.read_excel(regression_data_path)\n\n# Print the data table\nprint(regression_data_table.to_markdown())"
      ]
    },
    {
      "cell_type": "markdown",
      "metadata": {},
      "source": [
        ".. important::\n  In order to use the regression function in ConPagnon and some other function,\n  the table need to follow one basic rule: there must be one column named **subjects**\n  containing the **same** subject name you use in your data dictionary. The simple reason\n  for that, is when we will perform the regression, we will math the connectivity matrix\n  for a subject with the behavioral score for that same subject. In order to do that, we must\n  have id's column to fetch the right data. Finally, for this example only, the data should be\n  in the **.xlsx** format.\n\n"
      ]
    },
    {
      "cell_type": "markdown",
      "metadata": {},
      "source": [
        "As you may notice, we have *27* subjects in the patients group, but\nwe have only 25 entries in the date table. Traditionally, in a linear\nregression, we simply drop the subjects, discarding their entire\nconnectivity matrix. In the regression function we use next, we will\nhave the possibility to drop void entries.\n\n"
      ]
    },
    {
      "cell_type": "markdown",
      "metadata": {},
      "source": [
        "Compute the linear regression\n-----------------------------\n\nWe can now compute the regression calling the\n:py:func:`conpagnon.connectivity_statistics.parametric_tests.linear_regression` function. This function\nis very convenient because we give the entire subjects connectivity matrices dictionary as an input. The equation\nfor this example is very simple :\n$Functional Connectivity = \\beta_0 + \\beta_1*LanguagePerformance + \\mu$,\nwhere $\\mu\\sim N\\left(0,\\Sigma\\right).$\n\n"
      ]
    },
    {
      "cell_type": "code",
      "execution_count": null,
      "metadata": {
        "collapsed": false
      },
      "outputs": [],
      "source": [
        "# Call the regression function\nresults_dictionary, design_matrix, true_connectivity, fitted_connectivity_vec, \\\n    subjects_list = linear_regression(connectivity_data=subjects_connectivity_matrices['patients'],\n                                      data=regression_data_path,\n                                      formula='language_performance',\n                                      NA_action='drop',\n                                      kind='correlation',\n                                      vectorize=True,\n                                      discard_diagonal=False,\n                                      sheetname=0)"
      ]
    },
    {
      "cell_type": "markdown",
      "metadata": {},
      "source": [
        "As you notice we store the result in a dictionary as usual, here the variable\n``results_dictionary``, contains a sub-dictionary of results for each correction\nmethod you choose. Here, we only apply a False Discovery Rate correction, so there is\nonly one entry to the results dictionary, ``results_dictionary['fdr_bh']``. For convenience,\nthere is an entry **for each variable** in your model. For example to explore the results\nassociated with the language performance variable, you can access it with\n``results_dictionary['fdr_bh']['results']['language_performance']``.\n\n"
      ]
    },
    {
      "cell_type": "markdown",
      "metadata": {},
      "source": [
        "<div class=\"alert alert-info\"><h4>Note</h4><p></p></div>\nWe only compute the linear regression for the *correlation* metric,\nbut you can off course explore in what the result differ if you\nuse other metric like *partial correlation* or, *tangent*.\n\n"
      ]
    },
    {
      "cell_type": "code",
      "execution_count": null,
      "metadata": {
        "collapsed": false
      },
      "outputs": [],
      "source": [
        "# Explore the available results for the language performance:\nprint(results_dictionary['fdr_bh']['results']['language_performance'].keys())"
      ]
    },
    {
      "cell_type": "markdown",
      "metadata": {},
      "source": [
        "As you can see, we store the uncorrected p-values matrix, the corrected\np-values matrix, the t-values matrix, and the thresholded t-values matrix\nat the corresponding Type I error rate. We can also retrieve the design matrix\nof the model, containing the intercept (column of one) and the language score\nwe regressed.\n\n"
      ]
    },
    {
      "cell_type": "code",
      "execution_count": null,
      "metadata": {
        "collapsed": false
      },
      "outputs": [],
      "source": [
        "# The design matrix storing the model\nprint(design_matrix.to_markdown())"
      ]
    },
    {
      "cell_type": "markdown",
      "metadata": {},
      "source": [
        "Retrieve significant results\n----------------------------\n\nFrom the ``results_dictionary`` we can fetch pretty easily the different\nregions statistically significant. For example, we can first compute\nthe indices corresponding to those regions. For simplicity purpose,\nwe will plot the regression curve for only one couple of regions.\n\n"
      ]
    },
    {
      "cell_type": "code",
      "execution_count": null,
      "metadata": {
        "collapsed": false
      },
      "outputs": [],
      "source": [
        "# Find the indices of significant regions of interest\ni, j = np.where(results_dictionary['fdr_bh']['results']['language_performance']['corrected pvalues'] < 0.05)\n# Fetch the functional connectivity for the one couple of regions\n# from the subject connectivity matrices dictionary\nroi_i, roi_j = i[70], j[70]\nraw_connectivity = np.array([subjects_connectivity_matrices['patients'][s]['correlation'][roi_i, roi_j]\n                             for s in subjects_list])"
      ]
    },
    {
      "cell_type": "markdown",
      "metadata": {},
      "source": [
        "The ``fitted_connectivity_vec`` output from the linear regression\nfunction is a matrix of shape ``(25, 2628)``, that mean, all the\nsubjects connectivity matrices are stacked and **vectorized** on top\nof each other. For a quick rebuild of the stack of connectivity matrices,\nyou can call the :py:func:`conpagnon.utils.array_operation.array_rebuilder` function.\nWe can now plot the results for the couple of regions we fetched.\n\n"
      ]
    },
    {
      "cell_type": "code",
      "execution_count": null,
      "metadata": {
        "collapsed": false
      },
      "outputs": [],
      "source": [
        "lmplot(x='language_performance',\n       y='raw_connectivity',\n       data=pd.DataFrame({'language_performance': np.array(regression_data_table['language_performance']),\n                          'raw_connectivity': raw_connectivity}),\n       line_kws={'color': 'red'}, height=8)\nplt.title('Linear regression between the language performance and the functional \\n'\n          'connectivity for region pair ({}, {})'.format(roi_i, roi_j))\nplt.tight_layout()\nplt.show()"
      ]
    },
    {
      "cell_type": "markdown",
      "metadata": {},
      "source": [
        "It can be tedious to plot all the significant graph\ncorresponding to significant couple of regions. We\nhave a much more global view of the results if we plot\nthe results in a matrix fashion, and have a grasp of\nall regions involved in the linear model we currently\nstudy. In the newt section below, you lean to plot the\nresults in a connectivity matrix structure.\n\n"
      ]
    },
    {
      "cell_type": "markdown",
      "metadata": {},
      "source": [
        "View the results in a matrix\n----------------------------\n\nWe can view the results in a global way, by plotting them\nin a matrix. Each row, and each column correspond to the\natlas region you computed your connectivity matrices with, but\nthis time, you will find t-values instead of connectivity coefficient.\nFor plotting purposes only we will use in this section, the atlas\nwe already manipulate in the very first section of the tutorials. You can download the\n`atlas <https://www.dropbox.com/s/wwmg0a4g3cjnfvv/atlas.nii?dl=1>`_,\nand the corresponding `labels <https://www.dropbox.com/s/3wuzwn14l7nksvy/atlas_labels.csv?dl=1>`_\nfor each regions. This atlas have 72 regions of interest, and connectivity matrices\nwere computed using this same atlas.\n\n"
      ]
    },
    {
      "cell_type": "markdown",
      "metadata": {},
      "source": [
        "<div class=\"alert alert-danger\"><h4>Warning</h4><p>All those files, as a reminder, should be in your home\n  directory.</p></div>\n\n"
      ]
    },
    {
      "cell_type": "code",
      "execution_count": null,
      "metadata": {
        "collapsed": false
      },
      "outputs": [],
      "source": [
        "# First, we will load the atlas, and fetching\n# in particular, the regions name, the\n# colors of each network in the atlas.\n\n# Filename of the atlas file.\natlas_file_name = 'atlas.nii'\n# Full path to atlas labels file\natlas_label_file = os.path.join(home_directory, 'atlas_labels.csv')\n# Set the colors of the twelves network in the atlas\ncolors = ['navy', 'sienna', 'orange', 'orchid', 'indianred', 'olive',\n          'goldenrod', 'turquoise', 'darkslategray', 'limegreen', 'black',\n          'lightpink']\n# Number of regions in each of the network\nnetworks = [2, 10, 2, 6, 10, 2, 8, 6, 8, 8, 6, 4]\n# We can call fetch_atlas to retrieve useful information about the atlas\natlas_nodes, labels_regions, labels_colors, n_nodes = atlas.fetch_atlas(\n    atlas_folder=home_directory,\n    atlas_name=atlas_file_name,\n    network_regions_number=networks,\n    colors_labels=colors,\n    labels=atlas_label_file,\n    normalize_colors=True)"
      ]
    },
    {
      "cell_type": "markdown",
      "metadata": {},
      "source": [
        "<div class=\"alert alert-info\"><h4>Note</h4><p>Remember that you can generate random colors,\n  if you can't attribute to each regions a functional\n  network. Please see the docstring\n  of the :py:class:`conpagnon.data_handling.atlas` class.</p></div>\n\n"
      ]
    },
    {
      "cell_type": "code",
      "execution_count": null,
      "metadata": {
        "collapsed": false
      },
      "outputs": [],
      "source": [
        "# Now, we can fetch the t-value matrix, thresholded\n# at the alpha level (.O5), plotting only the t-value\n# corresponding to statically significant brain regions\nsignificant_t_value_matrix = results_dictionary['fdr_bh']['results']['language_performance']['significant tvalues']\n\n# Plot of the t-value matrix\nplot_matrix(matrix=significant_t_value_matrix,\n            labels_colors=labels_colors,\n            vertical_labels=labels_regions,\n            horizontal_labels=labels_regions,\n            linecolor='black',\n            linewidths=.1,\n            title='Significant brain regions for language performance')\nplt.show()"
      ]
    },
    {
      "cell_type": "markdown",
      "metadata": {},
      "source": [
        "<div class=\"alert alert-info\"><h4>Note</h4><p>A blue coded value indicate a anti-correlated behavior\n  with the variable you plotted, and a red coded value\n  indicate a correlated behavior. You can plot the corresponding\n  t-value matrix for all the variable included in your model.</p></div>\n\n"
      ]
    }
  ],
  "metadata": {
    "kernelspec": {
      "display_name": "Python 3",
      "language": "python",
      "name": "python3"
    },
    "language_info": {
      "codemirror_mode": {
        "name": "ipython",
        "version": 3
      },
      "file_extension": ".py",
      "mimetype": "text/x-python",
      "name": "python",
      "nbconvert_exporter": "python",
      "pygments_lexer": "ipython3",
      "version": "3.7.3"
    }
  },
  "nbformat": 4,
  "nbformat_minor": 0
}