{
  "cells": [
    {
      "cell_type": "code",
      "execution_count": null,
      "metadata": {
        "collapsed": false
      },
      "outputs": [],
      "source": [
        "%matplotlib inline"
      ]
    },
    {
      "cell_type": "markdown",
      "metadata": {},
      "source": [
        "\nManipulating a brain atlas\n==========================\n**What you'll learn**: Manipulating and visualizing an atlas file.\n"
      ]
    },
    {
      "cell_type": "markdown",
      "metadata": {},
      "source": [
        "**Author**: `Dhaif BEKHA <dhaif@dhaifbekha.com>`_\n\n"
      ]
    },
    {
      "cell_type": "markdown",
      "metadata": {},
      "source": [
        "Retrieve the example atlas\n--------------------------\n\nFor this example we will work on an functional brain atlas. Please download the\n`atlas <https://www.dropbox.com/s/wwmg0a4g3cjnfvv/atlas.nii?dl=1>`_ file\nand the corresponding regions `label <https://www.dropbox.com/s/3wuzwn14l7nksvy/atlas_labels.csv?dl=1>`_ file.\nThis brain atlas cover the whole cortex with **72** symmetric regions of interest. We divided those regions\nof interest into **twelve known functional brain network.**\n\n"
      ]
    },
    {
      "cell_type": "markdown",
      "metadata": {},
      "source": [
        "<div class=\"alert alert-info\"><h4>Note</h4><p>This example atlas is just an example among the numerous existing\n   brain atlas in the literature. In you're day to day analysis, if\n   don't have a tailored brain atlas, you can easily fetch one from\n   the `Nilearn datasets <https://nilearn.github.io/modules/reference.html#module-nilearn.datasets>`_\n   module.</p></div>\n\n"
      ]
    },
    {
      "cell_type": "markdown",
      "metadata": {},
      "source": [
        "Import all the module we'll need\n--------------------------------\n\n"
      ]
    },
    {
      "cell_type": "code",
      "execution_count": null,
      "metadata": {
        "collapsed": false
      },
      "outputs": [],
      "source": [
        "from pathlib import Path\nimport os\nfrom conpagnon.data_handling import atlas\nfrom nilearn import plotting"
      ]
    },
    {
      "cell_type": "markdown",
      "metadata": {},
      "source": [
        "Load the atlas, set labels colors\n---------------------------------\nWe assume that the atlas file, and labels file are in your home directory.\n\n"
      ]
    },
    {
      "cell_type": "code",
      "execution_count": null,
      "metadata": {
        "collapsed": false
      },
      "outputs": [],
      "source": [
        "# Fetch the path of the home directory\nhome_directory = str(Path.home())\n# Filename of the atlas file.\natlas_file_name = 'atlas.nii'\n# Full path to atlas labels file\natlas_label_file = os.path.join(home_directory, 'atlas_labels.csv')\n# Set the colors of the twelves network in the atlas\ncolors = ['navy', 'sienna', 'orange', 'orchid', 'indianred', 'olive',\n          'goldenrod', 'turquoise', 'darkslategray', 'limegreen', 'black',\n          'lightpink']\n# Number of regions in each of the network\nnetworks = [2, 10, 2, 6, 10, 2, 8, 6, 8, 8, 6, 4]"
      ]
    },
    {
      "cell_type": "markdown",
      "metadata": {},
      "source": [
        ".. important::\n   We enumerate the number of regions in each defined `networks` in the networks variable\n   in the order that they are presented in the atlas file. So the first network have\n   2 regions of interest, the second network have 10 regions of interest, and so on.\n   The list of colors follow naturally the same order. So the labels of the first two\n   regions of interest will be navy, and so on.\n\n"
      ]
    },
    {
      "cell_type": "code",
      "execution_count": null,
      "metadata": {
        "collapsed": false
      },
      "outputs": [],
      "source": [
        "# We can call fetch_atlas to retrieve useful information about the atlas\natlas_nodes, labels_regions, labels_colors, n_nodes = atlas.fetch_atlas(\n    atlas_folder=home_directory,\n    atlas_name=atlas_file_name,\n    network_regions_number=networks,\n    colors_labels=colors,\n    labels=atlas_label_file,\n    normalize_colors=True)"
      ]
    },
    {
      "cell_type": "markdown",
      "metadata": {},
      "source": [
        ":py:func:`conpagnon.data_handling.atlas.fetch_atlas` is very useful to retrieve\nuseful information about the atlas such as the number of regions, the coordinates\nof each regions center of mass, or the colors in the RGB for each regions.\n\n"
      ]
    },
    {
      "cell_type": "markdown",
      "metadata": {},
      "source": [
        "We can print the coordinates of each center of mass :\n\n"
      ]
    },
    {
      "cell_type": "code",
      "execution_count": null,
      "metadata": {
        "collapsed": false
      },
      "outputs": [],
      "source": [
        "# Coordinates of the center of mass for each region in the atlas\nprint(atlas_nodes)"
      ]
    },
    {
      "cell_type": "markdown",
      "metadata": {},
      "source": [
        "We can print the colors of each label region :\n\n"
      ]
    },
    {
      "cell_type": "code",
      "execution_count": null,
      "metadata": {
        "collapsed": false
      },
      "outputs": [],
      "source": [
        "# Colors attributed to each region in the atlas\nprint(labels_colors)"
      ]
    },
    {
      "cell_type": "markdown",
      "metadata": {},
      "source": [
        "<div class=\"alert alert-info\"><h4>Note</h4><p>To see all the labels colors available, please\n   visit `this page <https://matplotlib.org/3.1.0/gallery/color/named_colors.html>`_</p></div>\n\n"
      ]
    },
    {
      "cell_type": "markdown",
      "metadata": {},
      "source": [
        "We can print the number of region :\n\n"
      ]
    },
    {
      "cell_type": "code",
      "execution_count": null,
      "metadata": {
        "collapsed": false
      },
      "outputs": [],
      "source": [
        "# Number of regions in this example atlas\nprint(n_nodes)"
      ]
    },
    {
      "cell_type": "markdown",
      "metadata": {},
      "source": [
        "Basic atlas plotting\n--------------------\nWe use `Nilearn plotting <https://nilearn.github.io/modules/reference.html#module-nilearn.plotting>`_\ncapabilities to plot and visualize our atlas in a convenient way\n\n"
      ]
    },
    {
      "cell_type": "code",
      "execution_count": null,
      "metadata": {
        "collapsed": false
      },
      "outputs": [],
      "source": [
        "plotting.plot_prob_atlas(maps_img=os.path.join(home_directory, atlas_file_name),\n                         title=\"Example atlas of 72 brain regions\")"
      ]
    },
    {
      "cell_type": "markdown",
      "metadata": {},
      "source": [
        "Atlas with no supplementary information\n---------------------------------------\nSometimes, you won't have at disposal the segmentation of\nthe atlas in networks, or you won't have a particular set\nof colors for the labels. In that case, you can simply\nimport the atlas, and generate random colors:\n\n"
      ]
    },
    {
      "cell_type": "code",
      "execution_count": null,
      "metadata": {
        "collapsed": false
      },
      "outputs": [],
      "source": [
        "# We can call fetch_atlas to retrieve useful information about the atlas\natlas_nodes, labels_regions, labels_colors, n_nodes = atlas.fetch_atlas(\n    atlas_folder=home_directory,\n    atlas_name=atlas_file_name,\n    normalize_colors=False)"
      ]
    },
    {
      "cell_type": "markdown",
      "metadata": {},
      "source": [
        "Now the label of a region is just the number of the region in the atlas,\nsince we did not provide a label file:\n\n"
      ]
    },
    {
      "cell_type": "code",
      "execution_count": null,
      "metadata": {
        "collapsed": false
      },
      "outputs": [],
      "source": [
        "# The labels of each region in now just a number\nprint(labels_regions)"
      ]
    }
  ],
  "metadata": {
    "kernelspec": {
      "display_name": "Python 3",
      "language": "python",
      "name": "python3"
    },
    "language_info": {
      "codemirror_mode": {
        "name": "ipython",
        "version": 3
      },
      "file_extension": ".py",
      "mimetype": "text/x-python",
      "name": "python",
      "nbconvert_exporter": "python",
      "pygments_lexer": "ipython3",
      "version": "3.7.3"
    }
  },
  "nbformat": 4,
  "nbformat_minor": 0
}